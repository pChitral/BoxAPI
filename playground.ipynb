{
 "cells": [
  {
   "cell_type": "code",
   "execution_count": null,
   "metadata": {},
   "outputs": [],
   "source": [
    "from boxsdk import OAuth2, Client, DevelopmentClient\n",
    "import os\n",
    "from dotenv import load_dotenv\n",
    "\n",
    "load_dotenv()  # Load environment variables\n",
    "\n",
    "# Retrieve credentials from environment variables\n",
    "client_id = os.getenv(\"BOX_CLIENT_ID\")\n",
    "client_secret = os.getenv(\"BOX_CLIENT_SECRET\")\n",
    "developer_token = os.getenv(\"BOX_DEVELOPER_TOKEN\")\n",
    "\n",
    "# Set up Box client\n",
    "auth = OAuth2(\n",
    "    client_id=client_id, client_secret=client_secret, access_token=developer_token\n",
    ")\n",
    "client = Client(auth)\n",
    "\n",
    "local_folder_path = \"data\"\n",
    "box_folder_name = \"MyFolder\"  # Name of the folder you want to create or use in Box\n",
    "\n",
    "# Check if the folder exists in Box, if not create it\n",
    "folder_id = None\n",
    "items = client.folder(folder_id=\"0\").get_items()\n",
    "for item in items:\n",
    "    if item.type == \"folder\" and item.name == box_folder_name:\n",
    "        folder_id = item.id\n",
    "        break\n",
    "\n",
    "if folder_id is None:\n",
    "    new_folder = client.folder(\"0\").create_subfolder(box_folder_name)\n",
    "    folder_id = new_folder.id\n",
    "\n",
    "# Upload files to the folder\n",
    "for filename in os.listdir(local_folder_path):\n",
    "    local_file_path = os.path.join(local_folder_path, filename)\n",
    "\n",
    "    if os.path.isfile(local_file_path):\n",
    "        try:\n",
    "            uploaded_file = client.folder(folder_id).upload(local_file_path, filename)\n",
    "            print(\n",
    "                f'File \"{uploaded_file.name}\" uploaded successfully with file ID {uploaded_file.id}'\n",
    "            )\n",
    "        except Exception as e:\n",
    "            print(f\"Error uploading file {filename}: {e}\")"
   ]
  }
 ],
 "metadata": {
  "kernelspec": {
   "display_name": "venv",
   "language": "python",
   "name": "python3"
  },
  "language_info": {
   "codemirror_mode": {
    "name": "ipython",
    "version": 3
   },
   "file_extension": ".py",
   "mimetype": "text/x-python",
   "name": "python",
   "nbconvert_exporter": "python",
   "pygments_lexer": "ipython3",
   "version": "3.11.6"
  }
 },
 "nbformat": 4,
 "nbformat_minor": 2
}
